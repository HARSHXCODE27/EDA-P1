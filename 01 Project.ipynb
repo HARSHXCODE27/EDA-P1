{
 "cells": [
  {
   "cell_type": "code",
   "execution_count": 1,
   "id": "7a1f0e07-4f32-42e3-856f-59321079149d",
   "metadata": {},
   "outputs": [],
   "source": [
    "import pandas as pd"
   ]
  },
  {
   "cell_type": "code",
   "execution_count": 2,
   "id": "b6d077e1-8e17-4b8e-a5de-d7bd729ab75c",
   "metadata": {},
   "outputs": [],
   "source": [
    "path = (\"/Users/harshgupta/Desktop/pandas/Projects/1 CSV/1 Ecommerce Purchases.csv\")\n",
    "df = pd.read_csv(path)"
   ]
  },
  {
   "cell_type": "code",
   "execution_count": 3,
   "id": "f0d615c8-e717-4562-9884-ad241660294e",
   "metadata": {},
   "outputs": [
    {
     "data": {
      "text/plain": [
       "10000"
      ]
     },
     "execution_count": 3,
     "metadata": {},
     "output_type": "execute_result"
    }
   ],
   "source": [
    "len(df)"
   ]
  },
  {
   "cell_type": "code",
   "execution_count": 4,
   "id": "0b8352ed-cafb-41f3-b6ea-b620bd63ac63",
   "metadata": {},
   "outputs": [
    {
     "data": {
      "text/plain": [
       "14"
      ]
     },
     "execution_count": 4,
     "metadata": {},
     "output_type": "execute_result"
    }
   ],
   "source": [
    "len(df.columns)"
   ]
  },
  {
   "cell_type": "code",
   "execution_count": 5,
   "id": "b9eb70dc-61e1-4e59-9dce-704a0f929824",
   "metadata": {},
   "outputs": [
    {
     "data": {
      "text/plain": [
       "99.99"
      ]
     },
     "execution_count": 5,
     "metadata": {},
     "output_type": "execute_result"
    }
   ],
   "source": [
    "df[\"Purchase Price\"].max()"
   ]
  },
  {
   "cell_type": "code",
   "execution_count": 6,
   "id": "2ff57d4b-bb94-4b94-9e33-00323a2f9e5a",
   "metadata": {},
   "outputs": [
    {
     "data": {
      "text/plain": [
       "1097"
      ]
     },
     "execution_count": 6,
     "metadata": {},
     "output_type": "execute_result"
    }
   ],
   "source": [
    "len(df[df[\"Language\"] == \"fr\"])"
   ]
  },
  {
   "cell_type": "code",
   "execution_count": 7,
   "id": "94e772a4-171b-42ad-847d-8d1a11e7563a",
   "metadata": {},
   "outputs": [
    {
     "data": {
      "text/plain": [
       "984"
      ]
     },
     "execution_count": 7,
     "metadata": {},
     "output_type": "execute_result"
    }
   ],
   "source": [
    "len(df[df[\"Job\"].str.contains(\"engineer\",case = False)])"
   ]
  },
  {
   "cell_type": "code",
   "execution_count": 8,
   "id": "1a848f37-96fa-40ae-ad9d-37bf4e214d61",
   "metadata": {},
   "outputs": [
    {
     "data": {
      "text/plain": [
       "2    amymiller@morales-harrison.com\n",
       "Name: Email, dtype: object"
      ]
     },
     "execution_count": 8,
     "metadata": {},
     "output_type": "execute_result"
    }
   ],
   "source": [
    "df[df[\"IP Address\"] == \"132.207.160.22\"][\"Email\"]"
   ]
  },
  {
   "cell_type": "markdown",
   "id": "724dc3e3-9edf-4f8f-a6b1-ad598edfb772",
   "metadata": {},
   "source": [
    "## HOW MANY MADE PURCHASE ON MASTERCARD & ABOVE 50"
   ]
  },
  {
   "cell_type": "code",
   "execution_count": 9,
   "id": "4b1ddd18-7c6e-4d00-8932-7d42b0f2a369",
   "metadata": {},
   "outputs": [
    {
     "data": {
      "text/plain": [
       "405"
      ]
     },
     "execution_count": 9,
     "metadata": {},
     "output_type": "execute_result"
    }
   ],
   "source": [
    "len(df[df[\"CC Provider\"].str.contains(\"Mastercard\",case = False) & (df[\"Purchase Price\"] > 50)])"
   ]
  },
  {
   "cell_type": "code",
   "execution_count": 10,
   "id": "f39cfe5b-dc3b-4d41-ac9b-403d90f937a4",
   "metadata": {},
   "outputs": [
    {
     "data": {
      "text/plain": [
       "9992    bberry@wright.net\n",
       "Name: Email, dtype: object"
      ]
     },
     "execution_count": 10,
     "metadata": {},
     "output_type": "execute_result"
    }
   ],
   "source": [
    "df[df['Credit Card'] == 4664825258997302]['Email']"
   ]
  },
  {
   "cell_type": "code",
   "execution_count": 11,
   "id": "659ea894-b190-4217-8c41-cae4c360dc0c",
   "metadata": {},
   "outputs": [
    {
     "data": {
      "text/plain": [
       "Index(['Address', 'Lot', 'AM or PM', 'Browser Info', 'Company', 'Credit Card',\n",
       "       'CC Exp Date', 'CC Security Code', 'CC Provider', 'Email', 'Job',\n",
       "       'IP Address', 'Language', 'Purchase Price'],\n",
       "      dtype='object')"
      ]
     },
     "execution_count": 11,
     "metadata": {},
     "output_type": "execute_result"
    }
   ],
   "source": [
    "df.columns"
   ]
  },
  {
   "cell_type": "code",
   "execution_count": 12,
   "id": "94a27474-ab01-4d0b-9b2e-f81348e9ca11",
   "metadata": {},
   "outputs": [
    {
     "data": {
      "text/plain": [
       "4932"
      ]
     },
     "execution_count": 12,
     "metadata": {},
     "output_type": "execute_result"
    }
   ],
   "source": [
    "len(df[df[\"AM or PM\"] == \"AM\"])"
   ]
  },
  {
   "cell_type": "code",
   "execution_count": 13,
   "id": "55c95acd-b9fb-4bae-b824-7d99320a9093",
   "metadata": {},
   "outputs": [
    {
     "data": {
      "text/plain": [
       "AM or PM\n",
       "PM    5068\n",
       "AM    4932\n",
       "Name: count, dtype: int64"
      ]
     },
     "execution_count": 13,
     "metadata": {},
     "output_type": "execute_result"
    }
   ],
   "source": [
    "df[\"AM or PM\"].value_counts()"
   ]
  },
  {
   "cell_type": "markdown",
   "id": "ee01e368-a3b5-409c-a0ee-323df1c9462c",
   "metadata": {},
   "source": [
    "## HOW MANY CARDS ARE EXPIRING IN YEAR OF 2020"
   ]
  },
  {
   "cell_type": "code",
   "execution_count": 14,
   "id": "995aa1c3-5b0b-4c3c-bcb2-81f5472c317a",
   "metadata": {},
   "outputs": [
    {
     "data": {
      "text/plain": [
       "9717"
      ]
     },
     "execution_count": 14,
     "metadata": {},
     "output_type": "execute_result"
    }
   ],
   "source": [
    "len(df[df[\"CC Exp Date\"] >= \"01/20\"])"
   ]
  },
  {
   "cell_type": "code",
   "execution_count": 15,
   "id": "e3f4ff97-1268-4647-ab7f-2a49672536ab",
   "metadata": {},
   "outputs": [
    {
     "data": {
      "text/plain": [
       "Address              object\n",
       "Lot                  object\n",
       "AM or PM             object\n",
       "Browser Info         object\n",
       "Company              object\n",
       "Credit Card           int64\n",
       "CC Exp Date          object\n",
       "CC Security Code      int64\n",
       "CC Provider          object\n",
       "Email                object\n",
       "Job                  object\n",
       "IP Address           object\n",
       "Language             object\n",
       "Purchase Price      float64\n",
       "dtype: object"
      ]
     },
     "execution_count": 15,
     "metadata": {},
     "output_type": "execute_result"
    }
   ],
   "source": [
    "df.dtypes"
   ]
  },
  {
   "cell_type": "code",
   "execution_count": 16,
   "id": "401d1cd5-202a-43f8-9821-4aa9f1d6c6f2",
   "metadata": {},
   "outputs": [
    {
     "data": {
      "text/plain": [
       "0       02/20\n",
       "1       11/18\n",
       "2       08/19\n",
       "3       02/24\n",
       "4       10/25\n",
       "        ...  \n",
       "9995    03/22\n",
       "9996    07/25\n",
       "9997    05/21\n",
       "9998    11/17\n",
       "9999    02/19\n",
       "Name: CC Exp Date, Length: 10000, dtype: object"
      ]
     },
     "execution_count": 16,
     "metadata": {},
     "output_type": "execute_result"
    }
   ],
   "source": [
    "df['CC Exp Date']"
   ]
  },
  {
   "cell_type": "code",
   "execution_count": 17,
   "id": "30d43725-3325-4eac-9ef4-f450b6468163",
   "metadata": {},
   "outputs": [
    {
     "name": "stdout",
     "output_type": "stream",
     "text": [
      "988\n"
     ]
    }
   ],
   "source": [
    "def fun ():\n",
    "    count = 0\n",
    "    for date in df ['CC Exp Date']:\n",
    "        if date.split(\"/\")[1]==\"20\":\n",
    "            count = count + 1\n",
    "    print(count)\n",
    "    \n",
    "fun()"
   ]
  },
  {
   "cell_type": "code",
   "execution_count": 18,
   "id": "21604816-3295-417e-9e6e-a4b6e817d42d",
   "metadata": {},
   "outputs": [
    {
     "data": {
      "text/plain": [
       "988"
      ]
     },
     "execution_count": 18,
     "metadata": {},
     "output_type": "execute_result"
    }
   ],
   "source": [
    "len(df[df[\"CC Exp Date\"].apply(lambda x:x[3:] == \"20\")])\n",
    "len(df[df[\"CC Exp Date\"].apply(lambda x:x.split(\"/\")[1] == \"20\")])"
   ]
  },
  {
   "cell_type": "markdown",
   "id": "3a2eaf84-6db3-45ca-a83f-9765b7659af2",
   "metadata": {},
   "source": [
    "## TOP 5 EMAIL ID'S USED"
   ]
  },
  {
   "cell_type": "code",
   "execution_count": 19,
   "id": "56513510-55d9-4825-a656-a0d36cd3a503",
   "metadata": {},
   "outputs": [
    {
     "data": {
      "text/plain": [
       "temp\n",
       "hotmail.com     1638\n",
       "yahoo.com       1616\n",
       "gmail.com       1605\n",
       "smith.com         42\n",
       "williams.com      37\n",
       "Name: count, dtype: int64"
      ]
     },
     "execution_count": 19,
     "metadata": {},
     "output_type": "execute_result"
    }
   ],
   "source": [
    "list = []\n",
    "for email in df[\"Email\"]:\n",
    "    list.append(email.split(\"@\")[1])\n",
    "    \n",
    "#new column\n",
    "df[\"temp\"] = list\n",
    "\n",
    "df[\"temp\"].value_counts().head(5)\n"
   ]
  },
  {
   "cell_type": "code",
   "execution_count": 20,
   "id": "2ed13746-c07e-4386-bd03-ddd9b7a60db0",
   "metadata": {},
   "outputs": [
    {
     "data": {
      "text/plain": [
       "Email\n",
       "hotmail.com     1638\n",
       "yahoo.com       1616\n",
       "gmail.com       1605\n",
       "smith.com         42\n",
       "williams.com      37\n",
       "Name: count, dtype: int64"
      ]
     },
     "execution_count": 20,
     "metadata": {},
     "output_type": "execute_result"
    }
   ],
   "source": [
    "df[\"Email\"].apply(lambda x:x.split(\"@\")[1]).value_counts().head(5)"
   ]
  },
  {
   "cell_type": "code",
   "execution_count": 3,
   "id": "d0c10d20-78b7-43b7-9ec3-021fb14b9730",
   "metadata": {},
   "outputs": [
    {
     "data": {
      "text/plain": [
       "Index(['Address', 'Lot', 'AM or PM', 'Browser Info', 'Company', 'Credit Card',\n",
       "       'CC Exp Date', 'CC Security Code', 'CC Provider', 'Email', 'Job',\n",
       "       'IP Address', 'Language', 'Purchase Price'],\n",
       "      dtype='object')"
      ]
     },
     "execution_count": 3,
     "metadata": {},
     "output_type": "execute_result"
    }
   ],
   "source": [
    "df.columns"
   ]
  },
  {
   "cell_type": "code",
   "execution_count": null,
   "id": "13dce329-adac-4f05-a4bc-9803a718855d",
   "metadata": {},
   "outputs": [],
   "source": []
  }
 ],
 "metadata": {
  "kernelspec": {
   "display_name": "Python 3 (ipykernel)",
   "language": "python",
   "name": "python3"
  },
  "language_info": {
   "codemirror_mode": {
    "name": "ipython",
    "version": 3
   },
   "file_extension": ".py",
   "mimetype": "text/x-python",
   "name": "python",
   "nbconvert_exporter": "python",
   "pygments_lexer": "ipython3",
   "version": "3.11.4"
  }
 },
 "nbformat": 4,
 "nbformat_minor": 5
}
